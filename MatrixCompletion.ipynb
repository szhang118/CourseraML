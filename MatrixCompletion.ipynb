{
 "cells": [
  {
   "cell_type": "code",
   "execution_count": 1,
   "metadata": {
    "collapsed": true
   },
   "outputs": [],
   "source": [
    "import numpy as np\n",
    "import matplotlib.pyplot as plt\n",
    "%matplotlib inline\n",
    "plt.style.use(\"fivethirtyeight\")\n",
    "import cvxpy as cvx\n",
    "from PIL import Image\n",
    "from copy import deepcopy"
   ]
  },
  {
   "cell_type": "markdown",
   "metadata": {},
   "source": [
    "Create a 25 by 5 matrix R and a matrix M that is the product of R and R transpose. M should have rank at most 5."
   ]
  },
  {
   "cell_type": "code",
   "execution_count": 27,
   "metadata": {
    "collapsed": false
   },
   "outputs": [
    {
     "name": "stdout",
     "output_type": "stream",
     "text": [
      "(25L, 5L)\n"
     ]
    }
   ],
   "source": [
    "R = np.random.randn(125).reshape((25, 5))\n",
    "print R.shape"
   ]
  },
  {
   "cell_type": "code",
   "execution_count": 28,
   "metadata": {
    "collapsed": false
   },
   "outputs": [
    {
     "name": "stdout",
     "output_type": "stream",
     "text": [
      "(25L, 25L)\n"
     ]
    }
   ],
   "source": [
    "M = np.dot(R, R.T)\n",
    "print M.shape"
   ]
  },
  {
   "cell_type": "code",
   "execution_count": 4,
   "metadata": {
    "collapsed": false
   },
   "outputs": [],
   "source": [
    "import random"
   ]
  },
  {
   "cell_type": "markdown",
   "metadata": {},
   "source": [
    "Create a matrix Mhat that has a probability of 0.60 that entries are replaced by 0. The goal is to recover M while only knowing Mhat."
   ]
  },
  {
   "cell_type": "code",
   "execution_count": 29,
   "metadata": {
    "collapsed": false
   },
   "outputs": [],
   "source": [
    "Mhat60 = deepcopy(M)\n",
    "for i in xrange(25):\n",
    "    for j in xrange(25):\n",
    "        if random.random() < 0.60:\n",
    "            Mhat60[i, j] = 0"
   ]
  },
  {
   "cell_type": "code",
   "execution_count": 30,
   "metadata": {
    "collapsed": false
   },
   "outputs": [
    {
     "name": "stdout",
     "output_type": "stream",
     "text": [
      "0.3872\n"
     ]
    }
   ],
   "source": [
    "print np.mean(Mhat60 == M)"
   ]
  },
  {
   "cell_type": "markdown",
   "metadata": {},
   "source": [
    "Nuclear norm minimization uses convex optimization to solve this problem.  Want to minimize the rank of a matrix U subject to the constraint that U matches the known entries of Mhat. This can be restated as minimizing the L0 norm of the eigenvalues of U subject to the constraints that U is symmetric and matches the known entries of Mhat. Unfortunately this problem is NP-hard but under certain restrictions, minimizing the L1 norm returns the same solution. This can be formulated as minimizing the trace of matrix U subject to the constraints that U is symmetric and positive semi-definite and also matches the known entries of Mhat. The code below formulates this problem using the CVXPY package."
   ]
  },
  {
   "cell_type": "code",
   "execution_count": 31,
   "metadata": {
    "collapsed": false
   },
   "outputs": [
    {
     "name": "stdout",
     "output_type": "stream",
     "text": [
      "     pcost       dcost       gap    pres   dres   k/t\n",
      " 0:  5.7611e+01  5.7611e+01  5e+02  6e+01  1e+00  1e+00\n",
      " 1:  1.2610e+02  1.2949e+02  1e+02  1e+01  2e-01  4e+00\n",
      " 2:  1.2445e+02  1.2515e+02  1e+01  2e+00  4e-02  7e-01\n",
      " 3:  1.2391e+02  1.2404e+02  3e+00  4e-01  7e-03  1e-01\n",
      " 4:  1.2377e+02  1.2379e+02  4e-01  6e-02  1e-03  2e-02\n",
      " 5:  1.2377e+02  1.2378e+02  2e-01  3e-02  5e-04  9e-03\n",
      " 6:  1.2376e+02  1.2376e+02  4e-02  6e-03  1e-04  2e-03\n",
      " 7:  1.2376e+02  1.2376e+02  1e-02  1e-03  2e-05  4e-04\n",
      " 8:  1.2376e+02  1.2376e+02  2e-03  3e-04  5e-06  1e-04\n",
      " 9:  1.2376e+02  1.2376e+02  6e-04  8e-05  1e-06  2e-05\n",
      "10:  1.2376e+02  1.2376e+02  1e-04  2e-05  3e-07  5e-06\n",
      "11:  1.2376e+02  1.2376e+02  2e-05  3e-06  5e-08  1e-06\n",
      "12:  1.2376e+02  1.2376e+02  5e-06  6e-07  1e-08  2e-07\n",
      "13:  1.2376e+02  1.2376e+02  8e-07  1e-07  2e-09  3e-08\n",
      "14:  1.2376e+02  1.2376e+02  1e-07  2e-08  3e-10  6e-09\n",
      "Optimal solution found.\n"
     ]
    },
    {
     "data": {
      "text/plain": [
       "123.75592269378912"
      ]
     },
     "execution_count": 31,
     "metadata": {},
     "output_type": "execute_result"
    }
   ],
   "source": [
    "known = np.zeros((25, 25))\n",
    "for i in xrange(25):\n",
    "    for j in xrange(25):\n",
    "        if Mhat60[i, j] != 0:\n",
    "            known[i, j] = 1\n",
    "U = cvx.Semidef(25)\n",
    "obj = cvx.Minimize(cvx.trace(U))\n",
    "constraints = [cvx.mul_elemwise(known, U) == cvx.mul_elemwise(known, Mhat60), U == U.T]\n",
    "prob = cvx.Problem(obj, constraints)\n",
    "prob.solve(verbose = True, solver=cvx.CVXOPT)"
   ]
  },
  {
   "cell_type": "markdown",
   "metadata": {},
   "source": [
    "When roughly 60% of M's entries are missing, this method is able to find an exact solution."
   ]
  },
  {
   "cell_type": "code",
   "execution_count": 32,
   "metadata": {
    "collapsed": false
   },
   "outputs": [
    {
     "name": "stdout",
     "output_type": "stream",
     "text": [
      "Frobenius norm using nuclear norm minimization: 5.97625861756e-08\n"
     ]
    }
   ],
   "source": [
    "print \"Frobenius norm using nuclear norm minimization:\", np.linalg.norm(U.value - M)"
   ]
  },
  {
   "cell_type": "markdown",
   "metadata": {},
   "source": [
    "Now use SVD to solve the same problem, this time for matrices where roughly 80% of entries are missing. SVD performs relatively poorly on this problem."
   ]
  },
  {
   "cell_type": "code",
   "execution_count": 9,
   "metadata": {
    "collapsed": false
   },
   "outputs": [
    {
     "name": "stdout",
     "output_type": "stream",
     "text": [
      "Trial 0: 65.17\n",
      "Trial 1: 56.33\n",
      "Trial 2: 62.75\n",
      "Trial 3: 58.79\n",
      "Trial 4: 56.82\n",
      "Trial 5: 49.98\n",
      "Trial 6: 55.01\n",
      "Trial 7: 55.76\n",
      "Trial 8: 47.15\n",
      "Trial 9: 56.51\n",
      "Trial 10: 47.46\n",
      "Trial 11: 51.25\n",
      "Trial 12: 49.66\n",
      "Trial 13: 56.02\n",
      "Trial 14: 83.64\n",
      "Trial 15: 45.21\n",
      "Trial 16: 54.65\n",
      "Trial 17: 61.10\n",
      "Trial 18: 60.84\n",
      "Trial 19: 65.07\n"
     ]
    }
   ],
   "source": [
    "trials = 20\n",
    "for t in xrange(trials):\n",
    "    R = np.random.randn(125).reshape((25, 5))\n",
    "    M = np.dot(R, R.T)\n",
    "    Mhat80 = deepcopy(M)\n",
    "    for i in xrange(25):\n",
    "        for j in xrange(25):\n",
    "            if random.random() < 0.80:\n",
    "                Mhat80[i, j] = 0\n",
    "    U, sigma, V = np.linalg.svd(Mhat80)\n",
    "    recover = np.matrix(U[:, :5]) * np.diag(sigma[:5]) * np.matrix(V[:5, :])\n",
    "    print \"Trial %d: %0.2f\" %(t, np.linalg.norm(recover - M))"
   ]
  },
  {
   "cell_type": "markdown",
   "metadata": {},
   "source": [
    "When nuclear norm minimization is used with 80% of entries missing, recovering the exact M not longer occurs but this method still performs significantly better than using SVD."
   ]
  },
  {
   "cell_type": "code",
   "execution_count": 34,
   "metadata": {
    "collapsed": false
   },
   "outputs": [
    {
     "name": "stdout",
     "output_type": "stream",
     "text": [
      "Trial 1: 17.85\n",
      "Trial 2: 31.45\n",
      "Trial 3: 25.99\n",
      "Trial 4: 29.79\n",
      "Trial 5: 14.53\n",
      "Trial 6: 29.60\n",
      "Trial 7: 23.62\n",
      "Trial 8: 28.86\n",
      "Trial 9: 26.55\n",
      "Trial 10: 25.57\n",
      "Trial 11: 23.72\n",
      "Trial 12: 27.54\n",
      "Trial 13: 26.23\n",
      "Trial 14: 24.93\n",
      "Trial 15: 17.64\n",
      "Trial 16: 27.38\n",
      "Trial 17: 22.87\n",
      "Trial 18: 30.49\n",
      "Trial 19: 25.31\n",
      "Trial 20: 19.46\n"
     ]
    }
   ],
   "source": [
    "for t in xrange(1, 21, 1):\n",
    "    R = np.random.randn(125).reshape((25, 5))\n",
    "    M = np.dot(R, R.T)\n",
    "    Mhat80 = deepcopy(M)\n",
    "    for i in xrange(25):\n",
    "        for j in xrange(25):\n",
    "            if random.random() < 0.80:\n",
    "                Mhat80[i, j] = 0\n",
    "    known = np.zeros((25, 25))\n",
    "    for i in xrange(25):\n",
    "        for j in xrange(25):\n",
    "            if Mhat80[i, j] != 0:\n",
    "                known[i, j] = 1\n",
    "    U = cvx.Semidef(25)\n",
    "    obj = cvx.Minimize(cvx.trace(U))\n",
    "    constraints = [cvx.mul_elemwise(known, U) == cvx.mul_elemwise(known, Mhat80), U == U.T]\n",
    "    prob = cvx.Problem(obj, constraints)\n",
    "    prob.solve(verbose = False, solver=cvx.CVXOPT)\n",
    "    print \"Trial %d: %0.2f\" %(t, np.linalg.norm(U.value - M))"
   ]
  },
  {
   "cell_type": "code",
   "execution_count": 42,
   "metadata": {
    "collapsed": true
   },
   "outputs": [],
   "source": [
    "def multiTrial(trials=21, missing=0.70):\n",
    "    print \"Nuclear norm matrix completion with %d percent entries missing.\" %(missing*100)\n",
    "    for t in xrange(1, trials, 1):\n",
    "        R = np.random.randn(125).reshape((25, 5))\n",
    "        M = np.dot(R, R.T)\n",
    "        Mhat = deepcopy(M)\n",
    "        for i in xrange(25):\n",
    "            for j in xrange(25):\n",
    "                if random.random() < missing:\n",
    "                    Mhat[i, j] = 0\n",
    "        known = np.zeros((25, 25))\n",
    "        for i in xrange(25):\n",
    "            for j in xrange(25):\n",
    "                if Mhat[i, j] != 0:\n",
    "                    known[i, j] = 1\n",
    "        U = cvx.Semidef(25)\n",
    "        obj = cvx.Minimize(cvx.trace(U))\n",
    "        constraints = [cvx.mul_elemwise(known, U) == cvx.mul_elemwise(known, Mhat), U == U.T]\n",
    "        prob = cvx.Problem(obj, constraints)\n",
    "        prob.solve(verbose = False, solver=cvx.CVXOPT)\n",
    "        print \"Trial %d: Percent Missing: %0.2f Norm: %0.2f\" %(t, 1.0 - np.mean(known), np.linalg.norm(U.value - M))"
   ]
  },
  {
   "cell_type": "markdown",
   "metadata": {},
   "source": [
    "Even with 70% probability of entries missing, nuclear norm minimization is sometimes still able to extract an exact recovery of M from Mhat."
   ]
  },
  {
   "cell_type": "code",
   "execution_count": 43,
   "metadata": {
    "collapsed": false
   },
   "outputs": [
    {
     "name": "stdout",
     "output_type": "stream",
     "text": [
      "Nuclear norm matrix completion with 70 percent entries missing.\n",
      "Trial 1: Percent Missing: 0.67 Norm: 1.26\n",
      "Trial 2: Percent Missing: 0.72 Norm: 7.99\n",
      "Trial 3: Percent Missing: 0.68 Norm: 1.65\n",
      "Trial 4: Percent Missing: 0.70 Norm: 0.00\n",
      "Trial 5: Percent Missing: 0.67 Norm: 5.20\n",
      "Trial 6: Percent Missing: 0.70 Norm: 2.75\n",
      "Trial 7: Percent Missing: 0.74 Norm: 14.41\n",
      "Trial 8: Percent Missing: 0.67 Norm: 0.00\n",
      "Trial 9: Percent Missing: 0.71 Norm: 12.96\n",
      "Trial 10: Percent Missing: 0.68 Norm: 7.23\n",
      "Trial 11: Percent Missing: 0.72 Norm: 9.02\n",
      "Trial 12: Percent Missing: 0.67 Norm: 1.17\n",
      "Trial 13: Percent Missing: 0.67 Norm: 0.17\n",
      "Trial 14: Percent Missing: 0.70 Norm: 5.85\n",
      "Trial 15: Percent Missing: 0.68 Norm: 8.84\n",
      "Trial 16: Percent Missing: 0.70 Norm: 0.00\n",
      "Trial 17: Percent Missing: 0.68 Norm: 6.71\n",
      "Trial 18: Percent Missing: 0.70 Norm: 0.33\n",
      "Trial 19: Percent Missing: 0.70 Norm: 12.16\n",
      "Trial 20: Percent Missing: 0.72 Norm: 3.75\n",
      "Trial 21: Percent Missing: 0.71 Norm: 9.37\n",
      "Trial 22: Percent Missing: 0.70 Norm: 3.78\n",
      "Trial 23: Percent Missing: 0.69 Norm: 9.60\n",
      "Trial 24: Percent Missing: 0.70 Norm: 7.35\n",
      "Trial 25: Percent Missing: 0.71 Norm: 4.92\n"
     ]
    }
   ],
   "source": [
    "multiTrial(missing=0.70, trials=26)"
   ]
  },
  {
   "cell_type": "code",
   "execution_count": null,
   "metadata": {
    "collapsed": true
   },
   "outputs": [],
   "source": []
  }
 ],
 "metadata": {
  "kernelspec": {
   "display_name": "Python 2",
   "language": "python",
   "name": "python2"
  },
  "language_info": {
   "codemirror_mode": {
    "name": "ipython",
    "version": 2
   },
   "file_extension": ".py",
   "mimetype": "text/x-python",
   "name": "python",
   "nbconvert_exporter": "python",
   "pygments_lexer": "ipython2",
   "version": "2.7.13"
  }
 },
 "nbformat": 4,
 "nbformat_minor": 0
}
