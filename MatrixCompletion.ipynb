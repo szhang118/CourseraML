{
 "cells": [
  {
   "cell_type": "code",
   "execution_count": 3,
   "metadata": {
    "collapsed": true
   },
   "outputs": [],
   "source": [
    "import numpy as np\n",
    "import matplotlib.pyplot as plt\n",
    "%matplotlib inline\n",
    "plt.style.use(\"fivethirtyeight\")\n",
    "import cvxpy as cvx\n",
    "from PIL import Image\n",
    "from copy import deepcopy"
   ]
  },
  {
   "cell_type": "code",
   "execution_count": 5,
   "metadata": {
    "collapsed": false
   },
   "outputs": [
    {
     "name": "stdout",
     "output_type": "stream",
     "text": [
      "(25L, 5L)\n"
     ]
    }
   ],
   "source": [
    "R = np.random.randn(125).reshape((25, 5))\n",
    "print R.shape"
   ]
  },
  {
   "cell_type": "code",
   "execution_count": 7,
   "metadata": {
    "collapsed": false
   },
   "outputs": [
    {
     "name": "stdout",
     "output_type": "stream",
     "text": [
      "(25L, 25L)\n"
     ]
    }
   ],
   "source": [
    "M = np.dot(R, R.T)\n",
    "print M.shape"
   ]
  },
  {
   "cell_type": "code",
   "execution_count": 9,
   "metadata": {
    "collapsed": false
   },
   "outputs": [],
   "source": [
    "import random"
   ]
  },
  {
   "cell_type": "code",
   "execution_count": 11,
   "metadata": {
    "collapsed": false
   },
   "outputs": [],
   "source": [
    "Mhat60 = deepcopy(M)\n",
    "for i in xrange(25):\n",
    "    for j in xrange(25):\n",
    "        if random.random() < 0.60:\n",
    "            Mhat60[i, j] = 0"
   ]
  },
  {
   "cell_type": "code",
   "execution_count": 13,
   "metadata": {
    "collapsed": false
   },
   "outputs": [
    {
     "name": "stdout",
     "output_type": "stream",
     "text": [
      "0.3904\n"
     ]
    }
   ],
   "source": [
    "print np.mean(Mhat60 == M)"
   ]
  },
  {
   "cell_type": "code",
   "execution_count": 26,
   "metadata": {
    "collapsed": false
   },
   "outputs": [],
   "source": [
    "known = np.zeros((25, 25))\n",
    "for i in xrange(25):\n",
    "    for j in xrange(25):\n",
    "        if Mhat60[i, j] != 0:\n",
    "            known[i, j] = 1\n",
    "U = cvx.Semidef(25)\n",
    "obj = cvx.Minimize(cvx.trace(U))\n",
    "constraints = [cvx.mul_elemwise(known, U) == cvx.mul_elemwise(known, Mhat60), U == U.T]\n",
    "prob = cvx.Problem(obj, constraints)\n",
    "#prob.solve(verbose = True, solver=cvx.SCS)"
   ]
  },
  {
   "cell_type": "code",
   "execution_count": 27,
   "metadata": {
    "collapsed": false
   },
   "outputs": [
    {
     "name": "stdout",
     "output_type": "stream",
     "text": [
      "Trial 0: 38.86\n",
      "Trial 1: 46.98\n",
      "Trial 2: 40.78\n",
      "Trial 3: 36.41\n",
      "Trial 4: 38.61\n",
      "Trial 5: 44.42\n",
      "Trial 6: 48.24\n",
      "Trial 7: 38.71\n",
      "Trial 8: 44.42\n",
      "Trial 9: 46.13\n",
      "Trial 10: 35.34\n",
      "Trial 11: 45.48\n",
      "Trial 12: 46.93\n",
      "Trial 13: 43.97\n",
      "Trial 14: 41.99\n",
      "Trial 15: 49.59\n",
      "Trial 16: 39.32\n",
      "Trial 17: 44.22\n",
      "Trial 18: 42.41\n",
      "Trial 19: 49.48\n"
     ]
    }
   ],
   "source": [
    "trials = 20\n",
    "for t in xrange(trials):\n",
    "    R = np.random.randn(125).reshape((25, 5))\n",
    "    M = np.dot(R, R.T)\n",
    "    Mhat60 = deepcopy(M)\n",
    "    for i in xrange(25):\n",
    "        for j in xrange(25):\n",
    "            if random.random() < 0.60:\n",
    "                Mhat60[i, j] = 0\n",
    "    U, sigma, V = np.linalg.svd(Mhat60)\n",
    "    recover = np.matrix(U[:, :5]) * np.diag(sigma[:5]) * np.matrix(V[:5, :])\n",
    "    print \"Trial %d: %0.2f\" %(t, np.linalg.norm(recover - M))"
   ]
  },
  {
   "cell_type": "code",
   "execution_count": null,
   "metadata": {
    "collapsed": false
   },
   "outputs": [],
   "source": []
  },
  {
   "cell_type": "code",
   "execution_count": null,
   "metadata": {
    "collapsed": true
   },
   "outputs": [],
   "source": []
  }
 ],
 "metadata": {
  "kernelspec": {
   "display_name": "Python 2",
   "language": "python",
   "name": "python2"
  },
  "language_info": {
   "codemirror_mode": {
    "name": "ipython",
    "version": 2
   },
   "file_extension": ".py",
   "mimetype": "text/x-python",
   "name": "python",
   "nbconvert_exporter": "python",
   "pygments_lexer": "ipython2",
   "version": "2.7.13"
  }
 },
 "nbformat": 4,
 "nbformat_minor": 0
}
