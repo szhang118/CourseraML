{
 "cells": [
  {
   "cell_type": "code",
   "execution_count": 1,
   "metadata": {
    "collapsed": true
   },
   "outputs": [],
   "source": [
    "import numpy as np\n",
    "import matplotlib.pyplot as plt\n",
    "%matplotlib inline"
   ]
  },
  {
   "cell_type": "code",
   "execution_count": 2,
   "metadata": {
    "collapsed": true
   },
   "outputs": [],
   "source": [
    "plt.style.use(\"ggplot\")"
   ]
  },
  {
   "cell_type": "markdown",
   "metadata": {},
   "source": [
    "There are N bins and we throw N balls into them, one by one. Comparison of 4 different strategies for bin selection."
   ]
  },
  {
   "cell_type": "markdown",
   "metadata": {},
   "source": [
    "Strategy 1: Select one of the N bins uniformly at random and place the current ball into it."
   ]
  },
  {
   "cell_type": "code",
   "execution_count": 3,
   "metadata": {
    "collapsed": true
   },
   "outputs": [],
   "source": [
    "def strategy1(N):\n",
    "    bins = np.zeros(N)\n",
    "    for i in xrange(N):\n",
    "        randBin = np.random.randint(low = 0, high=N, size=1)\n",
    "        bins[randBin] += 1\n",
    "    return max(bins)"
   ]
  },
  {
   "cell_type": "markdown",
   "metadata": {},
   "source": [
    "Strategy 2: Select 2 of the N bins uniformly at random without replacement and look at how many balls are already in each. If one bin has strictly fewer than the other, place the current ball in that bin. If both bins have the same number of balls, pick one of the two at random and place the current ball in it."
   ]
  },
  {
   "cell_type": "code",
   "execution_count": 29,
   "metadata": {
    "collapsed": false
   },
   "outputs": [],
   "source": [
    "def strategy2(N):\n",
    "    bins = np.zeros(N)\n",
    "    for i in xrange(N):\n",
    "        rand2 = np.random.randint(low = 0, high = N, size = 2)\n",
    "        if bins[rand2[0]] < bins[rand2[1]]:\n",
    "            bins[rand2[0]] += 1\n",
    "        elif bins[rand2[0]] > bins[rand2[1]]:\n",
    "            bins[rand2[1]] += 1\n",
    "        else:\n",
    "            randBin = np.random.choice(rand2)\n",
    "            bins[randBin] += 1\n",
    "    return max(bins)"
   ]
  },
  {
   "cell_type": "markdown",
   "metadata": {},
   "source": [
    "Strategy 3: Same as strategy 2 except choose 3 bins at random instead of two."
   ]
  },
  {
   "cell_type": "code",
   "execution_count": 45,
   "metadata": {
    "collapsed": true
   },
   "outputs": [],
   "source": [
    "def strategy3(N):\n",
    "    bins = np.zeros(N)\n",
    "    for i in xrange(N):\n",
    "        rand3 = np.random.randint(low = 0, high = N, size = 3) #choose 3 random bins\n",
    "        binsRand3 = bins[rand3] #get count of balls in those 3 bins\n",
    "        minBin = rand3[np.argmin(binsRand3)]\n",
    "        bins[minBin] += 1\n",
    "    return max(bins)"
   ]
  },
  {
   "cell_type": "markdown",
   "metadata": {},
   "source": [
    "Strategy 4: First bin is selected from the first N/2 bins and the second uniformly from the last N/2 with N assumed to be even. If one bin has strictly fewer balls than the other, place the current ball in that bin. If both have the same number of balls, place the current ball (deterministically) in the first of the two bins."
   ]
  },
  {
   "cell_type": "code",
   "execution_count": 48,
   "metadata": {
    "collapsed": true
   },
   "outputs": [],
   "source": [
    "def strategy4(N):\n",
    "    bins = np.zeros(N)\n",
    "    for i in xrange(N):\n",
    "        bin1 = np.random.randint(low = 0, high=N/2, size = 1)\n",
    "        bin2 = np.random.randint(low=N/2 + 1, high = N, size=1)\n",
    "        if bins[bin1] < bins[bin2]:\n",
    "            bins[bin1] += 1\n",
    "        elif bins[bin2] < bins[bin1]:\n",
    "            bins[bin2] += 1\n",
    "        else:\n",
    "            bins[bin1] += 1\n",
    "    return max(bins)"
   ]
  },
  {
   "cell_type": "code",
   "execution_count": 19,
   "metadata": {
    "collapsed": false
   },
   "outputs": [],
   "source": [
    "def multiTrials(trials, N, strategy):\n",
    "    results = [int(strategy(N)) for _ in range(trials)]\n",
    "    plt.hist(results)\n",
    "    plt.xlabel(\"Maximum in bin\")\n",
    "    plt.ylabel(\"Count\")"
   ]
  },
  {
   "cell_type": "code",
   "execution_count": 21,
   "metadata": {
    "collapsed": false
   },
   "outputs": [
    {
     "data": {
      "image/png": "[encoded data removed]",
      "text/plain": [
       "<matplotlib.figure.Figure at 0x660d4e0>"
      ]
     },
     "metadata": {},
     "output_type": "display_data"
    }
   ],
   "source": [
    "multiTrials(30, 100000, strategy1)"
   ]
  },
  {
   "cell_type": "code",
   "execution_count": 38,
   "metadata": {
    "collapsed": false
   },
   "outputs": [
    {
     "data": {
      "image/png": "[encoded data removed]",
      "text/plain": [
       "<matplotlib.figure.Figure at 0x72c3518>"
      ]
     },
     "metadata": {},
     "output_type": "display_data"
    }
   ],
   "source": [
    "multiTrials(30, 100000, strategy2)"
   ]
  },
  {
   "cell_type": "code",
   "execution_count": 47,
   "metadata": {
    "collapsed": false
   },
   "outputs": [
    {
     "data": {
      "image/png": "[encoded data removed]",
      "text/plain": [
       "<matplotlib.figure.Figure at 0x7aca278>"
      ]
     },
     "metadata": {},
     "output_type": "display_data"
    }
   ],
   "source": [
    "multiTrials(30, 100000, strategy3)"
   ]
  },
  {
   "cell_type": "code",
   "execution_count": 50,
   "metadata": {
    "collapsed": false
   },
   "outputs": [
    {
     "data": {
      "image/png": "[encoded data removed]",
      "text/plain": [
       "<matplotlib.figure.Figure at 0x799ea90>"
      ]
     },
     "metadata": {},
     "output_type": "display_data"
    }
   ],
   "source": [
    "multiTrials(30, 100000, strategy4)"
   ]
  },
  {
   "cell_type": "markdown",
   "metadata": {},
   "source": [
    "Strategies 3 and 4 appear to perform the best with both consistently getting a maximum of 3. Strategy 2 also gets a maximum of 3 but sometimes only achieves a maximum of 4. The first strategy performs less well with a range of results from 7 to 9 with 8 being the most common result. All run for 30 trials with N = 100,000."
   ]
  },
  {
   "cell_type": "code",
   "execution_count": null,
   "metadata": {
    "collapsed": true
   },
   "outputs": [],
   "source": []
  }
 ],
 "metadata": {
  "kernelspec": {
   "display_name": "Python 2",
   "language": "python",
   "name": "python2"
  },
  "language_info": {
   "codemirror_mode": {
    "name": "ipython",
    "version": 2
   },
   "file_extension": ".py",
   "mimetype": "text/x-python",
   "name": "python",
   "nbconvert_exporter": "python",
   "pygments_lexer": "ipython2",
   "version": "2.7.12"
  }
 },
 "nbformat": 4,
 "nbformat_minor": 0
}
