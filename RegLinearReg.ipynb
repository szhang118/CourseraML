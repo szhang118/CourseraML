{
 "cells": [
  {
   "cell_type": "markdown",
   "metadata": {},
   "source": [
    "Implementation of regularized linear regression with Python's numpy package."
   ]
  },
  {
   "cell_type": "code",
   "execution_count": 2,
   "metadata": {
    "collapsed": true
   },
   "outputs": [],
   "source": [
    "import numpy as np\n",
    "import pandas as pd\n",
    "import matplotlib.pyplot as plt\n",
    "%matplotlib inline\n",
    "from scipy.io import loadmat"
   ]
  },
  {
   "cell_type": "code",
   "execution_count": 3,
   "metadata": {
    "collapsed": false
   },
   "outputs": [
    {
     "data": {
      "text/plain": [
       "{'X': array([[-15.93675813],\n",
       "        [-29.15297922],\n",
       "        [ 36.18954863],\n",
       "        [ 37.49218733],\n",
       "        [-48.05882945],\n",
       "        [ -8.94145794],\n",
       "        [ 15.30779289],\n",
       "        [-34.70626581],\n",
       "        [  1.38915437],\n",
       "        [-44.38375985],\n",
       "        [  7.01350208],\n",
       "        [ 22.76274892]]), 'Xtest': array([[-33.31800399],\n",
       "        [-37.91216403],\n",
       "        [-51.20693795],\n",
       "        [ -6.13259585],\n",
       "        [ 21.26118327],\n",
       "        [-40.31952949],\n",
       "        [-14.54153167],\n",
       "        [ 32.55976024],\n",
       "        [ 13.39343255],\n",
       "        [ 44.20988595],\n",
       "        [ -1.14267768],\n",
       "        [-12.76686065],\n",
       "        [ 34.05450539],\n",
       "        [ 39.22350028],\n",
       "        [  1.97449674],\n",
       "        [ 29.6217551 ],\n",
       "        [-23.66962971],\n",
       "        [ -9.01180139],\n",
       "        [-55.94057091],\n",
       "        [-35.70859752],\n",
       "        [  9.51020533]]), 'Xval': array([[-16.74653578],\n",
       "        [-14.57747075],\n",
       "        [ 34.51575866],\n",
       "        [-47.01007574],\n",
       "        [ 36.97511905],\n",
       "        [-40.68611002],\n",
       "        [ -4.47201098],\n",
       "        [ 26.53363489],\n",
       "        [-42.7976831 ],\n",
       "        [ 25.37409938],\n",
       "        [-31.10955398],\n",
       "        [ 27.31176864],\n",
       "        [ -3.26386201],\n",
       "        [ -1.81827649],\n",
       "        [-40.7196624 ],\n",
       "        [-50.01324365],\n",
       "        [-17.41177155],\n",
       "        [  3.5881937 ],\n",
       "        [  7.08548026],\n",
       "        [ 46.28236902],\n",
       "        [ 14.61228909]]), '__globals__': [], '__header__': 'MATLAB 5.0 MAT-file, Platform: GLNXA64, Created on: Fri Nov  4 22:27:26 2011', '__version__': '1.0', 'y': array([[  2.13431051],\n",
       "        [  1.17325668],\n",
       "        [ 34.35910918],\n",
       "        [ 36.83795516],\n",
       "        [  2.80896507],\n",
       "        [  2.12107248],\n",
       "        [ 14.71026831],\n",
       "        [  2.61418439],\n",
       "        [  3.74017167],\n",
       "        [  3.73169131],\n",
       "        [  7.62765885],\n",
       "        [ 22.7524283 ]]), 'ytest': array([[  3.31688953],\n",
       "        [  5.39768952],\n",
       "        [  0.13042984],\n",
       "        [  6.1925982 ],\n",
       "        [ 17.08848712],\n",
       "        [  0.79950805],\n",
       "        [  2.82479183],\n",
       "        [ 28.62123334],\n",
       "        [ 17.04639081],\n",
       "        [ 55.38437334],\n",
       "        [  4.07936733],\n",
       "        [  8.27039793],\n",
       "        [ 31.32355102],\n",
       "        [ 39.15906103],\n",
       "        [  8.08727989],\n",
       "        [ 24.11134389],\n",
       "        [  2.4773548 ],\n",
       "        [  6.56606472],\n",
       "        [  6.0380888 ],\n",
       "        [  4.69273956],\n",
       "        [ 10.83004606]]), 'yval': array([[  4.17020201e+00],\n",
       "        [  4.06726280e+00],\n",
       "        [  3.18730676e+01],\n",
       "        [  1.06236562e+01],\n",
       "        [  3.18360213e+01],\n",
       "        [  4.95936972e+00],\n",
       "        [  4.45159880e+00],\n",
       "        [  2.22763185e+01],\n",
       "        [ -4.38738274e-05],\n",
       "        [  2.05038016e+01],\n",
       "        [  3.85834476e+00],\n",
       "        [  1.93650529e+01],\n",
       "        [  4.88376281e+00],\n",
       "        [  1.10971588e+01],\n",
       "        [  7.46170827e+00],\n",
       "        [  1.47693464e+00],\n",
       "        [  2.71916388e+00],\n",
       "        [  1.09269007e+01],\n",
       "        [  8.34871235e+00],\n",
       "        [  5.27819280e+01],\n",
       "        [  1.33573396e+01]])}"
      ]
     },
     "execution_count": 3,
     "metadata": {},
     "output_type": "execute_result"
    }
   ],
   "source": [
    "data = loadmat(\"ex5data1.mat\")\n",
    "data"
   ]
  },
  {
   "cell_type": "code",
   "execution_count": null,
   "metadata": {
    "collapsed": false
   },
   "outputs": [],
   "source": []
  },
  {
   "cell_type": "code",
   "execution_count": 7,
   "metadata": {
    "collapsed": true
   },
   "outputs": [],
   "source": [
    "Xtest, Xval, X, yval, ytest, y  = data[\"Xtest\"], data[\"Xval\"], data[\"X\"], data['yval'], data['ytest'], data['y']"
   ]
  },
  {
   "cell_type": "code",
   "execution_count": 10,
   "metadata": {
    "collapsed": false
   },
   "outputs": [
    {
     "name": "stdout",
     "output_type": "stream",
     "text": [
      "(21L, 1L) (21L, 1L) (12L, 1L) (21L, 1L) (21L, 1L) (12L, 1L)\n"
     ]
    }
   ],
   "source": [
    "print Xtest.shape, Xval.shape, X.shape, yval.shape, ytest.shape, y.shape"
   ]
  },
  {
   "cell_type": "code",
   "execution_count": 14,
   "metadata": {
    "collapsed": false
   },
   "outputs": [
    {
     "data": {
      "text/plain": [
       "<matplotlib.text.Text at 0xaacea90>"
      ]
     },
     "execution_count": 14,
     "metadata": {},
     "output_type": "execute_result"
    },
    {
     "data": {
      "image/png": "[encoded data removed]",
      "text/plain": [
       "<matplotlib.figure.Figure at 0x9361dd8>"
      ]
     },
     "metadata": {},
     "output_type": "display_data"
    }
   ],
   "source": [
    "plt.scatter(Xval, yval)\n",
    "plt.title(\"Validation Data\")"
   ]
  },
  {
   "cell_type": "code",
   "execution_count": 15,
   "metadata": {
    "collapsed": false
   },
   "outputs": [
    {
     "data": {
      "text/plain": [
       "<matplotlib.text.Text at 0xacb2eb8>"
      ]
     },
     "execution_count": 15,
     "metadata": {},
     "output_type": "execute_result"
    },
    {
     "data": {
      "image/png": "[encoded data removed]",
      "text/plain": [
       "<matplotlib.figure.Figure at 0x91c3c88>"
      ]
     },
     "metadata": {},
     "output_type": "display_data"
    }
   ],
   "source": [
    "plt.scatter(Xtest, ytest)\n",
    "plt.title(\"Test data\")"
   ]
  },
  {
   "cell_type": "code",
   "execution_count": 16,
   "metadata": {
    "collapsed": false
   },
   "outputs": [
    {
     "data": {
      "text/plain": [
       "<matplotlib.text.Text at 0xb0369e8>"
      ]
     },
     "execution_count": 16,
     "metadata": {},
     "output_type": "execute_result"
    },
    {
     "data": {
      "image/png": "[encoded data removed]",
      "text/plain": [
       "<matplotlib.figure.Figure at 0xad1bdd8>"
      ]
     },
     "metadata": {},
     "output_type": "display_data"
    }
   ],
   "source": [
    "plt.scatter(X, y)\n",
    "plt.title(\"Training data\")"
   ]
  },
  {
   "cell_type": "code",
   "execution_count": 44,
   "metadata": {
    "collapsed": false
   },
   "outputs": [
    {
     "name": "stdout",
     "output_type": "stream",
     "text": [
      "(2L,)\n"
     ]
    }
   ],
   "source": [
    "theta = np.array([1.0, 1.0])\n",
    "print theta.shape"
   ]
  },
  {
   "cell_type": "code",
   "execution_count": 35,
   "metadata": {
    "collapsed": true
   },
   "outputs": [],
   "source": [
    "#Cost function with regularization term\n",
    "def cost(theta, X, y, lamb):\n",
    "    theta, X, y = np.matrix(theta), np.matrix(X), np.matrix(y)\n",
    "    m = float(len(X))\n",
    "    first = np.multiply((X*theta.T - y), (X*theta.T -y))\n",
    "    return 1.0/(2.0*m)*np.sum(first) + lamb/(2.0 * m) * np.sum(np.power(theta[:, 1:theta.shape[1]], 2))"
   ]
  },
  {
   "cell_type": "code",
   "execution_count": 41,
   "metadata": {
    "collapsed": true
   },
   "outputs": [],
   "source": [
    "rows = np.shape(X)[0]\n",
    "X = np.insert(X, 0, np.ones(rows), axis=1)"
   ]
  },
  {
   "cell_type": "code",
   "execution_count": 47,
   "metadata": {
    "collapsed": false
   },
   "outputs": [],
   "source": [
    "Xval = np.insert(Xval, 0, np.ones(np.shape(Xval)[0]), axis = 1)\n",
    "Xtest = np.insert(Xtest, 0, np.ones(np.shape(Xtest)[0]), axis = 1)"
   ]
  },
  {
   "cell_type": "code",
   "execution_count": 50,
   "metadata": {
    "collapsed": false
   },
   "outputs": [
    {
     "name": "stdout",
     "output_type": "stream",
     "text": [
      "303.99319222\n",
      "344.674624534\n",
      "342.402951355\n"
     ]
    }
   ],
   "source": [
    "print cost(theta, X, y, 1.0)\n",
    "print cost(theta, Xval, yval, 1.0)\n",
    "print cost(theta, Xtest, ytest, 1.0)"
   ]
  },
  {
   "cell_type": "code",
   "execution_count": 55,
   "metadata": {
    "collapsed": false
   },
   "outputs": [],
   "source": [
    "def gradient(theta, X, y, lamb):\n",
    "    theta, X, y = np.matrix(theta), np.matrix(X), np.matrix(y)\n",
    "    m = float(len(X))\n",
    "    errors = X * theta.T - y\n",
    "    \n",
    "    grad = (1.0 / m * X.T * errors).T + ( (lamb / m)*theta)\n",
    "    grad[0, 0] = np.sum(np.multiply(errors, X[:, 0]))/m #intercept not regularized\n",
    "    return np.array(grad).ravel()"
   ]
  },
  {
   "cell_type": "code",
   "execution_count": 56,
   "metadata": {
    "collapsed": false
   },
   "outputs": [
    {
     "data": {
      "text/plain": [
       "array([ -15.30301567,  598.25074417])"
      ]
     },
     "execution_count": 56,
     "metadata": {},
     "output_type": "execute_result"
    }
   ],
   "source": [
    "gradient(theta, X, y, 1.0)"
   ]
  },
  {
   "cell_type": "code",
   "execution_count": 191,
   "metadata": {
    "collapsed": true
   },
   "outputs": [],
   "source": [
    "def gradReg(X, y, theta, lamb, alpha, iters):\n",
    "    temp = np.matrix(np.zeros(theta.shape))\n",
    "    costs = []\n",
    "    m = float(len(X))\n",
    "    \n",
    "    for i in xrange(iters):\n",
    "        temp = theta - alpha/m * gradient(theta, X, y, lamb)\n",
    "        costs.append(cost(theta, X, y, lamb))\n",
    "        theta = temp\n",
    "    return theta, costs"
   ]
  },
  {
   "cell_type": "code",
   "execution_count": null,
   "metadata": {
    "collapsed": false
   },
   "outputs": [],
   "source": []
  },
  {
   "cell_type": "code",
   "execution_count": 195,
   "metadata": {
    "collapsed": false
   },
   "outputs": [
    {
     "data": {
      "text/plain": [
       "array([ 13.04553729,   0.36748907])"
      ]
     },
     "execution_count": 195,
     "metadata": {},
     "output_type": "execute_result"
    }
   ],
   "source": [
    "weights, costs = gradReg(X, y, np.array([1.0, 1.0]), 1.0, 0.01, 7000)\n",
    "weights"
   ]
  },
  {
   "cell_type": "code",
   "execution_count": null,
   "metadata": {
    "collapsed": false
   },
   "outputs": [],
   "source": []
  },
  {
   "cell_type": "code",
   "execution_count": 57,
   "metadata": {
    "collapsed": true
   },
   "outputs": [],
   "source": [
    "from scipy.optimize import minimize"
   ]
  },
  {
   "cell_type": "code",
   "execution_count": 58,
   "metadata": {
    "collapsed": true
   },
   "outputs": [],
   "source": [
    "def linreg(X, y, lamb):\n",
    "    params = X.shape[1]\n",
    "    theta = np.zeros(params)\n",
    "    fmin = minimize(fun=cost, x0=theta, args=(X, y, lamb), method=\"TNC\", jac=gradient)\n",
    "    return fmin.x"
   ]
  },
  {
   "cell_type": "code",
   "execution_count": 193,
   "metadata": {
    "collapsed": false
   },
   "outputs": [
    {
     "name": "stdout",
     "output_type": "stream",
     "text": [
      "[ 13.08771416   0.367742  ]\n"
     ]
    }
   ],
   "source": [
    "lparams = linreg(X, y, 1.0)\n",
    "print lparams"
   ]
  },
  {
   "cell_type": "code",
   "execution_count": 77,
   "metadata": {
    "collapsed": false
   },
   "outputs": [],
   "source": [
    "def ridge(X, y, lamb):\n",
    "    XtX = np.linalg.inv(np.dot(X.T, X) + lamb*np.identity(int(X.shape[1])))\n",
    "    return np.dot(np.dot(XtX, X.T), y)"
   ]
  },
  {
   "cell_type": "code",
   "execution_count": 156,
   "metadata": {
    "collapsed": false
   },
   "outputs": [
    {
     "data": {
      "text/plain": [
       "<matplotlib.text.Text at 0xdd5e550>"
      ]
     },
     "execution_count": 156,
     "metadata": {},
     "output_type": "execute_result"
    },
    {
     "data": {
      "image/png": "[encoded data removed]",
      "text/plain": [
       "<matplotlib.figure.Figure at 0xda284a8>"
      ]
     },
     "metadata": {},
     "output_type": "display_data"
    }
   ],
   "source": [
    "xs = np.arange(-60, 60, 0.25)\n",
    "xs = np.column_stack((np.ones(len(xs)), xs))\n",
    "ys = np.dot(xs, lparams)\n",
    "plt.scatter(X[:, 1], y)\n",
    "plt.plot(xs[:, 1], ys)\n",
    "plt.title(\"Training data\")"
   ]
  },
  {
   "cell_type": "code",
   "execution_count": 79,
   "metadata": {
    "collapsed": false
   },
   "outputs": [],
   "source": [
    "from sklearn.linear_model import LinearRegression"
   ]
  },
  {
   "cell_type": "code",
   "execution_count": 80,
   "metadata": {
    "collapsed": false
   },
   "outputs": [],
   "source": [
    "linear = LinearRegression()"
   ]
  },
  {
   "cell_type": "code",
   "execution_count": 83,
   "metadata": {
    "collapsed": false
   },
   "outputs": [
    {
     "name": "stdout",
     "output_type": "stream",
     "text": [
      "[[ 0.          0.36777923]]\n",
      "[ 13.08790351]\n"
     ]
    }
   ],
   "source": [
    "linear.fit(X, y)\n",
    "print linear.coef_\n",
    "print linear.intercept_"
   ]
  },
  {
   "cell_type": "code",
   "execution_count": 107,
   "metadata": {
    "collapsed": false
   },
   "outputs": [],
   "source": [
    "def learning(X, y, Xcv, ycv, numexamples, lamb=1.0):\n",
    "    t_error = []\n",
    "    cv_error = []\n",
    "    for m in numexamples:\n",
    "        params = linreg(X[:m], y[:m], lamb=lamb)\n",
    "        t_error.append(cost(params, X[:m], y[:m], lamb=0.0))\n",
    "        cv_error.append(cost(params, Xcv, ycv, lamb=0.0))\n",
    "    plt.plot(numexamples, t_error, label=\"Train\")\n",
    "    plt.plot(numexamples, cv_error, label=\"Cross Validation\")\n",
    "    plt.legend()\n",
    "    plt.title(\"Regression Learning Curve\")"
   ]
  },
  {
   "cell_type": "code",
   "execution_count": 108,
   "metadata": {
    "collapsed": false
   },
   "outputs": [
    {
     "data": {
      "image/png": "[encoded data removed]",
      "text/plain": [
       "<matplotlib.figure.Figure at 0xd25f898>"
      ]
     },
     "metadata": {},
     "output_type": "display_data"
    }
   ],
   "source": [
    "learning(X, y, Xval, yval, [2, 4, 6, 8, 10, 12])"
   ]
  },
  {
   "cell_type": "code",
   "execution_count": 113,
   "metadata": {
    "collapsed": false
   },
   "outputs": [],
   "source": [
    "Xscale = X.copy()\n",
    "mean = Xscale[:, 1].mean()\n",
    "std = Xscale[:, 1].std()\n",
    "Xscale[:, 1] = (Xscale[:, 1] - mean)/std"
   ]
  },
  {
   "cell_type": "code",
   "execution_count": 124,
   "metadata": {
    "collapsed": false
   },
   "outputs": [],
   "source": [
    "X1 = np.reshape(Xscale[:, 1], (X.shape[0], 1))\n",
    "for i in range(2, 9, 1):\n",
    "    Xscale = np.hstack((Xscale, np.power(X1, i)))"
   ]
  },
  {
   "cell_type": "code",
   "execution_count": 129,
   "metadata": {
    "collapsed": false
   },
   "outputs": [],
   "source": [
    "Xcv_scale = Xval.copy()\n",
    "mean = Xcv_scale[:, 1].mean()\n",
    "std = Xcv_scale[:, 1].std()\n",
    "Xcv_scale[:, 1] = (Xcv_scale[:, 1] - mean)/std\n",
    "Xcv1 = np.reshape(Xcv_scale[:, 1], (Xval.shape[0], 1))\n",
    "for i in range(2, 9, 1):\n",
    "    Xcv_scale = np.hstack((Xcv_scale, np.power(Xcv1, i)))"
   ]
  },
  {
   "cell_type": "code",
   "execution_count": 132,
   "metadata": {
    "collapsed": false
   },
   "outputs": [
    {
     "data": {
      "image/png": "[encoded data removed]",
      "text/plain": [
       "<matplotlib.figure.Figure at 0xd25f860>"
      ]
     },
     "metadata": {},
     "output_type": "display_data"
    }
   ],
   "source": [
    "learning(Xscale, y, Xcv_scale, yval, [2, 4, 6, 8, 10, 12], lamb=100.0)"
   ]
  },
  {
   "cell_type": "code",
   "execution_count": 170,
   "metadata": {
    "collapsed": false
   },
   "outputs": [],
   "source": [
    "def validation(X, y, Xcv, ycv, lambdas):\n",
    "    t_error = []\n",
    "    cv_error = []\n",
    "    for lamb in lambdas:\n",
    "        params = linreg(X, y, lamb=lamb)\n",
    "        t_error.append(cost(params, X, y, lamb=lamb))\n",
    "        cv_error.append(cost(params, Xcv, ycv, lamb=lamb))\n",
    "    plt.plot(lambdas, t_error, label=\"Train\")\n",
    "    plt.plot(lambdas, cv_error, label=\"Cross Validation\")\n",
    "    plt.xlabel(\"$\\lambda$\")\n",
    "    plt.ylabel(\"Error\")\n",
    "    plt.legend()\n",
    "    plt.title(\"Regression Validation Curve\")"
   ]
  },
  {
   "cell_type": "code",
   "execution_count": 174,
   "metadata": {
    "collapsed": false
   },
   "outputs": [
    {
     "data": {
      "image/png": "[encoded data removed]",
      "text/plain": [
       "<matplotlib.figure.Figure at 0xc5dd940>"
      ]
     },
     "metadata": {},
     "output_type": "display_data"
    }
   ],
   "source": [
    "validation(Xscale, y, Xcv_scale, yval,[0, 0.001, 0.003, 0.01, 0.03, 0.1, 0.3, 1, 3, 10])"
   ]
  },
  {
   "cell_type": "code",
   "execution_count": null,
   "metadata": {
    "collapsed": true
   },
   "outputs": [],
   "source": []
  }
 ],
 "metadata": {
  "kernelspec": {
   "display_name": "Python 2",
   "language": "python",
   "name": "python2"
  },
  "language_info": {
   "codemirror_mode": {
    "name": "ipython",
    "version": 2
   },
   "file_extension": ".py",
   "mimetype": "text/x-python",
   "name": "python",
   "nbconvert_exporter": "python",
   "pygments_lexer": "ipython2",
   "version": "2.7.12"
  }
 },
 "nbformat": 4,
 "nbformat_minor": 0
}
