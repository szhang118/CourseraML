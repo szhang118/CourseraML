{
 "cells": [
  {
   "cell_type": "markdown",
   "metadata": {},
   "source": [
    "Implementation of neural network in numpy for digit prediction."
   ]
  },
  {
   "cell_type": "code",
   "execution_count": 1,
   "metadata": {
    "collapsed": true
   },
   "outputs": [],
   "source": [
    "import numpy as np\n",
    "import pandas as pd\n",
    "import matplotlib.pyplot as plt\n",
    "%matplotlib inline\n",
    "from scipy.io import loadmat"
   ]
  },
  {
   "cell_type": "code",
   "execution_count": 2,
   "metadata": {
    "collapsed": true
   },
   "outputs": [],
   "source": [
    "def sigmoid(z):\n",
    "    return 1.0 / (1 + np.exp(-z))"
   ]
  },
  {
   "cell_type": "code",
   "execution_count": 3,
   "metadata": {
    "collapsed": false
   },
   "outputs": [
    {
     "data": {
      "text/plain": [
       "{'X': array([[ 0.,  0.,  0., ...,  0.,  0.,  0.],\n",
       "        [ 0.,  0.,  0., ...,  0.,  0.,  0.],\n",
       "        [ 0.,  0.,  0., ...,  0.,  0.,  0.],\n",
       "        ..., \n",
       "        [ 0.,  0.,  0., ...,  0.,  0.,  0.],\n",
       "        [ 0.,  0.,  0., ...,  0.,  0.,  0.],\n",
       "        [ 0.,  0.,  0., ...,  0.,  0.,  0.]]),\n",
       " '__globals__': [],\n",
       " '__header__': 'MATLAB 5.0 MAT-file, Platform: GLNXA64, Created on: Sun Oct 16 13:09:09 2011',\n",
       " '__version__': '1.0',\n",
       " 'y': array([[10],\n",
       "        [10],\n",
       "        [10],\n",
       "        ..., \n",
       "        [ 9],\n",
       "        [ 9],\n",
       "        [ 9]], dtype=uint8)}"
      ]
     },
     "execution_count": 3,
     "metadata": {},
     "output_type": "execute_result"
    }
   ],
   "source": [
    "data = loadmat(\"ex4data1.mat\")\n",
    "data"
   ]
  },
  {
   "cell_type": "code",
   "execution_count": 4,
   "metadata": {
    "collapsed": false
   },
   "outputs": [
    {
     "name": "stdout",
     "output_type": "stream",
     "text": [
      "(5000L, 400L) (5000L, 1L)\n"
     ]
    }
   ],
   "source": [
    "X = data[\"X\"]\n",
    "y = data[\"y\"]\n",
    "print X.shape, y.shape"
   ]
  },
  {
   "cell_type": "code",
   "execution_count": 5,
   "metadata": {
    "collapsed": true
   },
   "outputs": [],
   "source": [
    "from sklearn.preprocessing import OneHotEncoder"
   ]
  },
  {
   "cell_type": "code",
   "execution_count": 6,
   "metadata": {
    "collapsed": false
   },
   "outputs": [
    {
     "name": "stdout",
     "output_type": "stream",
     "text": [
      "(5000L, 10L)\n"
     ]
    }
   ],
   "source": [
    "encoder = OneHotEncoder(sparse= False)\n",
    "y_onehot = encoder.fit_transform(y)\n",
    "print y_onehot.shape"
   ]
  },
  {
   "cell_type": "code",
   "execution_count": 7,
   "metadata": {
    "collapsed": false
   },
   "outputs": [
    {
     "data": {
      "text/plain": [
       "(array([10], dtype=uint8),\n",
       " array([ 0.,  0.,  0.,  0.,  0.,  0.,  0.,  0.,  0.,  1.]))"
      ]
     },
     "execution_count": 7,
     "metadata": {},
     "output_type": "execute_result"
    }
   ],
   "source": [
    "y[0], y_onehot[0, :]"
   ]
  },
  {
   "cell_type": "code",
   "execution_count": null,
   "metadata": {
    "collapsed": false
   },
   "outputs": [],
   "source": []
  },
  {
   "cell_type": "code",
   "execution_count": 9,
   "metadata": {
    "collapsed": true
   },
   "outputs": [],
   "source": [
    "def forward_prop(X, theta1, theta2):\n",
    "    m = X.shape[0] #number of observations\n",
    "    \n",
    "    a1 = np.insert(X, 0, values = np.ones(m), axis=1) #first activation\n",
    "    z2 = a1 * theta1.T\n",
    "    a2 = np.insert(sigmoid(z2), 0, values=np.ones(m), axis=1) #second activation\n",
    "    z3 = a2 * theta2.T\n",
    "    h = sigmoid(z3) #final output calculation\n",
    "    \n",
    "    return a1, z2, a2, z3, h"
   ]
  },
  {
   "cell_type": "code",
   "execution_count": 17,
   "metadata": {
    "collapsed": true
   },
   "outputs": [],
   "source": [
    "def cost(params, input_size, hidden_size, num_labels, X, y, learning_rate):\n",
    "    m = X.shape[0] #number of observations\n",
    "    X, y = np.matrix(X), np.matrix(y)\n",
    "    \n",
    "    #reshape parameter array into matrices for network layers\n",
    "    theta1 = np.matrix(np.reshape(params[:hidden_size*(input_size + 1)], (hidden_size, input_size + 1)))\n",
    "    theta2 = np.matrix(np.reshape(params[hidden_size*(input_size + 1):], (num_labels, hidden_size + 1)))\n",
    "    \n",
    "    a1, z2, a2, z3, h = forward_prop(X, theta1, theta2)\n",
    "    \n",
    "    J = 0 #compute cost\n",
    "    for i in range(m):\n",
    "        first_term = np.multiply(-y[i, :], np.log(h[i, :]))\n",
    "        second_term = np.multiply(1 - y[i, :], np.log(1 - h[i, :]))\n",
    "        J += np.sum(first_term - second_term)\n",
    "        \n",
    "    J = J / m\n",
    "    #add regularization of parameters squared excluding bias coefficients\n",
    "    J += learning_rate/(2.0*m)*(np.sum(np.power(theta1[:, 1:], 2)) + np.sum(np.power(theta2[:, 1:], 2)))\n",
    "    return J"
   ]
  },
  {
   "cell_type": "code",
   "execution_count": 12,
   "metadata": {
    "collapsed": false
   },
   "outputs": [
    {
     "name": "stdout",
     "output_type": "stream",
     "text": [
      "(25L, 401L) (10L, 26L)\n"
     ]
    }
   ],
   "source": [
    "input_size = 400\n",
    "hidden_size = 25\n",
    "num_labels = 10\n",
    "learning_rate = 1.0\n",
    "\n",
    "#random initialization of full parameters\n",
    "params = (np.random.random(size=hidden_size*(input_size + 1) + num_labels*(hidden_size + 1)) -0.5)*0.25\n",
    "\n",
    "m = X.shape[0]\n",
    "X, y = np.matrix(X), np.matrix(y)\n",
    "\n",
    "#unravel parameter array into separate layer matrices\n",
    "theta1 = np.matrix(np.reshape(params[:hidden_size*(input_size + 1)], (hidden_size, input_size + 1)))\n",
    "theta2= np.matrix(np.reshape(params[hidden_size*(input_size + 1):], (num_labels, hidden_size + 1)))\n",
    "print theta1.shape, theta2.shape"
   ]
  },
  {
   "cell_type": "code",
   "execution_count": 13,
   "metadata": {
    "collapsed": false
   },
   "outputs": [
    {
     "name": "stdout",
     "output_type": "stream",
     "text": [
      "(5000L, 401L) (5000L, 25L) (5000L, 26L) (5000L, 10L) (5000L, 10L)\n"
     ]
    }
   ],
   "source": [
    "a1, z2, a2, z3, h = forward_prop(X, theta1, theta2)\n",
    "print a1.shape, z2.shape, a2.shape, z3.shape, h.shape"
   ]
  },
  {
   "cell_type": "code",
   "execution_count": 19,
   "metadata": {
    "collapsed": false
   },
   "outputs": [
    {
     "name": "stdout",
     "output_type": "stream",
     "text": [
      "6.84246697861\n"
     ]
    }
   ],
   "source": [
    "print cost(params, input_size, hidden_size, num_labels, X, y_onehot, learning_rate)"
   ]
  },
  {
   "cell_type": "code",
   "execution_count": 26,
   "metadata": {
    "collapsed": true
   },
   "outputs": [],
   "source": [
    "def sigmoid_grad(z):\n",
    "    return np.multiply(sigmoid(z), (1 - sigmoid(z)))"
   ]
  },
  {
   "cell_type": "code",
   "execution_count": 25,
   "metadata": {
    "collapsed": false
   },
   "outputs": [
    {
     "data": {
      "text/plain": [
       "<matplotlib.text.Text at 0xc978ac8>"
      ]
     },
     "execution_count": 25,
     "metadata": {},
     "output_type": "execute_result"
    },
    {
     "data": {
      "image/png": "[encoded data removed]",
      "text/plain": [
       "<matplotlib.figure.Figure at 0xc290f28>"
      ]
     },
     "metadata": {},
     "output_type": "display_data"
    }
   ],
   "source": [
    "zs = np.arange(-6, 6, 0.01)\n",
    "grad = sigmoid_grad(zs)\n",
    "plt.plot(zs, grad)\n",
    "plt.xlabel(\"z\")\n",
    "plt.ylabel(\"Gradient\")"
   ]
  },
  {
   "cell_type": "code",
   "execution_count": 33,
   "metadata": {
    "collapsed": true
   },
   "outputs": [],
   "source": [
    "def backprop(params, input_size, hidden_size, num_labels, X, y, learning_rate):\n",
    "    m = X.shape[0] #number of observations\n",
    "    X, y = np.matrix(X), np.matrix(y)\n",
    "    \n",
    "    theta1 = np.matrix(np.reshape(params[:hidden_size * (input_size + 1)], (hidden_size, input_size + 1)))\n",
    "    theta2 = np.matrix(np.reshape(params[hidden_size*(input_size + 1):], (num_labels, hidden_size + 1)))\n",
    "    \n",
    "    a1, z2, a2, z3, h = forward_prop(X, theta1, theta2) \n",
    "    \n",
    "    #initialize cost, deltas\n",
    "    J, delta1, delta2 = 0.0, np.zeros(theta1.shape), np.zeros(theta2.shape)\n",
    "    \n",
    "    for i in xrange(m):\n",
    "        first = np.multiply(-y[i, :], np.log(h[i, :]))\n",
    "        second = np.multiply(1 - y[i, :], np.log(1 - h[i, :]))\n",
    "        J += np.sum(first - second)\n",
    "    J = J / m #calculate cost and add regularization\n",
    "    J += learning_rate/(2.0*m)*(np.sum(np.power(theta1[:, 1:], 2)) + np.sum(np.power(theta2[:, 1:], 2)))\n",
    "    \n",
    "    for t in range(m):\n",
    "        a1t = a1[t, :] #activations and outputs for t-th training example\n",
    "        z2t = z2[t, :]\n",
    "        a2t = a2[t, :]\n",
    "        ht = h[t, :]\n",
    "        yt = y[t, :]\n",
    "        \n",
    "        d3t = ht - yt #difference between output and prediction\n",
    "        z2t = np.insert(z2t, 0, values= np.ones(1))\n",
    "        d2t = np.multiply((theta2.T * d3t.T).T, sigmoid_grad(z2t)) #delta for hidden layer\n",
    "        \n",
    "        delta1 = delta1 + (d2t[:, 1:]).T * a1t #accumulate gradients\n",
    "        delta2 = delta2 + d3t.T * a2t\n",
    "        \n",
    "    delta1 = delta1 / m #unregularized gradients\n",
    "    delta2 = delta2 / m\n",
    "    #add gradient regularization terms\n",
    "    delta1[:, 1:] = delta1[:, 1:] + (theta1[:, 1:] * learning_rate)/m\n",
    "    delta2[:, 1:] = delta2[:, 1:] + (theta2[:, 1:] * learning_rate)/m\n",
    "    #unravel gradient matrices into array form\n",
    "    grad = np.concatenate((np.ravel(delta1), np.ravel(delta2)))\n",
    "    return J, grad"
   ]
  },
  {
   "cell_type": "code",
   "execution_count": 34,
   "metadata": {
    "collapsed": false
   },
   "outputs": [
    {
     "name": "stdout",
     "output_type": "stream",
     "text": [
      "6.84246697861 (10285L,)\n"
     ]
    }
   ],
   "source": [
    "J, grad = backprop(params, input_size, hidden_size, num_labels, X, y_onehot, learning_rate)\n",
    "print J, grad.shape"
   ]
  },
  {
   "cell_type": "code",
   "execution_count": 35,
   "metadata": {
    "collapsed": true
   },
   "outputs": [],
   "source": [
    "from scipy.optimize import minimize"
   ]
  },
  {
   "cell_type": "code",
   "execution_count": 36,
   "metadata": {
    "collapsed": true
   },
   "outputs": [],
   "source": [
    "fmin = minimize(fun = backprop, x0 = params, args = (input_size, hidden_size, num_labels, X, y_onehot, learning_rate), \n",
    "                method = \"TNC\", jac = True, options = {\"maxiter\": 250})"
   ]
  },
  {
   "cell_type": "code",
   "execution_count": 37,
   "metadata": {
    "collapsed": false
   },
   "outputs": [
    {
     "data": {
      "text/plain": [
       "     fun: 0.33840738715694857\n",
       "     jac: array([ -1.69944847e-04,  -3.79152485e-08,  -3.48881219e-07, ...,\n",
       "        -1.97928609e-04,  -5.01290789e-04,  -9.74540616e-05])\n",
       " message: 'Max. number of function evaluations reached'\n",
       "    nfev: 250\n",
       "     nit: 21\n",
       "  status: 3\n",
       " success: False\n",
       "       x: array([ -7.69086621e-01,  -1.89576242e-04,  -1.74440609e-03, ...,\n",
       "        -1.35086636e+00,   4.94393780e-01,  -1.62288595e+00])"
      ]
     },
     "execution_count": 37,
     "metadata": {},
     "output_type": "execute_result"
    }
   ],
   "source": [
    "fmin"
   ]
  },
  {
   "cell_type": "code",
   "execution_count": 41,
   "metadata": {
    "collapsed": false
   },
   "outputs": [
    {
     "data": {
      "text/plain": [
       "array([ 1,  2,  3,  4,  5,  6,  7,  8,  9, 10], dtype=int64)"
      ]
     },
     "execution_count": 41,
     "metadata": {},
     "output_type": "execute_result"
    }
   ],
   "source": [
    "X = np.matrix(X)\n",
    "theta1 = np.matrix(np.reshape(fmin.x[:hidden_size*(input_size + 1)], (hidden_size, input_size + 1)))\n",
    "theta2 =np.matrix(np.reshape(fmin.x[hidden_size * (input_size + 1):], (num_labels, hidden_size + 1)))\n",
    "a1, z2, a2, z3, h = forward_prop(X, theta1, theta2)\n",
    "y_pred = np.array(np.argmax(h, axis = 1) + 1)\n",
    "np.unique(y_pred)"
   ]
  },
  {
   "cell_type": "code",
   "execution_count": 42,
   "metadata": {
    "collapsed": false
   },
   "outputs": [
    {
     "name": "stdout",
     "output_type": "stream",
     "text": [
      "Accuracy: 0.9932\n"
     ]
    }
   ],
   "source": [
    "correct = [1 if a == b else 0 for (a, b) in zip(y_pred, y)]\n",
    "print \"Accuracy:\", sum(correct) / float(len(correct))"
   ]
  },
  {
   "cell_type": "code",
   "execution_count": 46,
   "metadata": {
    "collapsed": false
   },
   "outputs": [
    {
     "name": "stdout",
     "output_type": "stream",
     "text": [
      "{1: 504, 2: 497, 3: 498, 4: 501, 5: 501, 6: 498, 7: 501, 8: 500, 9: 496, 10: 504}\n"
     ]
    }
   ],
   "source": [
    "counts = {}\n",
    "for pred in y_pred:\n",
    "    if pred[0] in counts:\n",
    "        counts[pred[0]] += 1\n",
    "    else:\n",
    "        counts[pred[0]] = 1\n",
    "print counts"
   ]
  },
  {
   "cell_type": "code",
   "execution_count": null,
   "metadata": {
    "collapsed": true
   },
   "outputs": [],
   "source": []
  }
 ],
 "metadata": {
  "kernelspec": {
   "display_name": "Python 2",
   "language": "python",
   "name": "python2"
  },
  "language_info": {
   "codemirror_mode": {
    "name": "ipython",
    "version": 2
   },
   "file_extension": ".py",
   "mimetype": "text/x-python",
   "name": "python",
   "nbconvert_exporter": "python",
   "pygments_lexer": "ipython2",
   "version": "2.7.12"
  }
 },
 "nbformat": 4,
 "nbformat_minor": 0
}
