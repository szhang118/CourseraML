{
 "cells": [
  {
   "cell_type": "code",
   "execution_count": 2,
   "metadata": {
    "collapsed": true
   },
   "outputs": [],
   "source": [
    "import sys\n",
    "import math\n",
    "import numpy as np\n",
    "import time\n",
    "from matplotlib import pyplot as plt\n",
    "from matplotlib import animation\n",
    "import copy\n",
    "import random\n",
    "%matplotlib inline\n",
    "plt.style.use(\"fivethirtyeight\")"
   ]
  },
  {
   "cell_type": "code",
   "execution_count": 4,
   "metadata": {
    "collapsed": true
   },
   "outputs": [],
   "source": [
    "data = []"
   ]
  },
  {
   "cell_type": "code",
   "execution_count": 2,
   "metadata": {
    "collapsed": true
   },
   "outputs": [],
   "source": [
    "# plan is an array of 40 floating point numbers\n",
    "def sim(plan):\n",
    "    for i in range(0, len(plan)):\n",
    "        if plan[i] > 1:\n",
    "            plan[i] = 1.0\n",
    "        elif plan[i] < -1:\n",
    "            plan[i] = -1.0\n",
    "\n",
    "    dt = 0.1\n",
    "    friction = 1.0\n",
    "    gravity = 0.1\n",
    "    mass = [30, 10, 5, 10, 5, 10]\n",
    "    edgel = [0.5, 0.5, 0.5, 0.5, 0.9]\n",
    "    edgesp = [160.0, 180.0, 160.0, 180.0, 160.0]\n",
    "    edgef = [8.0, 8.0, 8.0, 8.0, 8.0]\n",
    "    anglessp = [20.0, 20.0, 10.0, 10.0]\n",
    "    anglesf = [8.0, 8.0, 4.0, 4.0]\n",
    "    \n",
    "    edge = [(0, 1),(1, 2),(0, 3),(3, 4),(0, 5)]\n",
    "    angles = [(4, 0),(4, 2),(0, 1),(2, 3)]\n",
    "    \n",
    "    # vel and pos of the body parts, 0 is hip, 5 is head, others are joints\n",
    "    v = [[0.0,0.0,0.0,0.0,0.0,0.0], [0.0,0.0,0.0,0.0,0.0,0.0]]\n",
    "    p = [[0, 0, -.25, .25, .25, .15], [1, .5, 0, .5, 0, 1.9]]\n",
    "    \n",
    "    spin = 0.0\n",
    "    maxspin = 0.0\n",
    "    lastang = 0.0\n",
    "    \n",
    "    for j in range(20):\n",
    "        for k in range(10):\n",
    "            lamb = 0.05 + 0.1*k\n",
    "            t0 = 0.5\n",
    "            if j>0:\n",
    "                t0 = plan[2*j-2]\n",
    "            t0 *= (1-lamb)\n",
    "            t0 += plan[2*j]*lamb\n",
    "            \n",
    "            t1 = 0.0\n",
    "            if j>0:\n",
    "                t1 = plan[2*j-1]\n",
    "            t1 *= (1-lamb)\n",
    "            t1 += plan[2*j+1]*lamb\n",
    "            \n",
    "            \n",
    "\n",
    "            contact = [False,False,False,False,False,False]\n",
    "            for z in range(6):\n",
    "                if p[1][z] <= 0:\n",
    "                    contact[z] = True\n",
    "                    spin = 0\n",
    "                    p[1][z] = 0\n",
    "\n",
    "            anglesl = [-(2.8+t0), -(2.8-t0), -(1-t1)*.9, -(1+t1)*.9]\n",
    "\n",
    "            disp = [[0,0,0,0,0],[0,0,0,0,0]]\n",
    "            dist = [0,0,0,0,0]\n",
    "            dispn = [[0,0,0,0,0],[0,0,0,0,0]]\n",
    "            for z in range(5):\n",
    "                disp[0][z] = p[0][edge[z][1]]-p[0][edge[z][0]]\n",
    "                disp[1][z] = p[1][edge[z][1]]-p[1][edge[z][0]]\n",
    "                dist[z] = math.sqrt(disp[0][z]*disp[0][z] + disp[1][z]*disp[1][z])\n",
    "                inv = 1.0/dist[z];\n",
    "                dispn[0][z] = disp[0][z]*inv\n",
    "                dispn[1][z] = disp[1][z]*inv;\n",
    "        \n",
    "            dispv = [[0,0,0,0,0],[0,0,0,0,0]]\n",
    "            distv = [0,0,0,0,0]\n",
    "            for z in range(5):\n",
    "                dispv[0][z] = v[0][edge[z][1]] - v[0][edge[z][0]]\n",
    "                dispv[1][z] = v[1][edge[z][1]] - v[1][edge[z][0]]\n",
    "                distv[z] = 2*(disp[0][z]*dispv[0][z] + disp[1][z]*dispv[1][z])\n",
    "\n",
    "            \n",
    "            forceedge = [[0,0,0,0,0],[0,0,0,0,0]]\n",
    "            for z in range(5):\n",
    "                c = (edgel[z]-dist[z])*edgesp[z]-distv[z]*edgef[z]\n",
    "                forceedge[0][z] = c*dispn[0][z]\n",
    "                forceedge[1][z] = c*dispn[1][z]\n",
    "\n",
    "            edgeang = [0,0,0,0,0]\n",
    "            edgeangv = [0,0,0,0,0]\n",
    "            for z in range(5):\n",
    "                edgeang[z] = math.atan2(disp[1][z], disp[0][z])\n",
    "                edgeangv[z] = (dispv[0][z]*disp[1][z]-dispv[1][z]*disp[0][z])/(dist[z]*dist[z])\n",
    "\n",
    "            inc = edgeang[4] - lastang\n",
    "            if (inc < -math.pi):\n",
    "                inc += 2.0 * math.pi\n",
    "            elif inc > math.pi:\n",
    "                inc -= 2.0 * math.pi\n",
    "            spin += inc\n",
    "            spinc = spin - .005*(k + 10 * j)\n",
    "            if spinc > maxspin:\n",
    "                maxspin = spinc\n",
    "                lastang = edgeang[4]\n",
    "\n",
    "            angv = [0,0,0,0]\n",
    "            for z in range(4):\n",
    "                angv[z] = edgeangv[angles[z][1]]-edgeangv[angles[z][0]];\n",
    "\n",
    "            angf = [0,0,0,0]\n",
    "            for z in range(4):\n",
    "                ang = edgeang[angles[z][1]]-edgeang[angles[z][0]]-anglesl[z]\n",
    "                if ang > math.pi:\n",
    "                    ang -= 2*math.pi\n",
    "                elif ang < -math.pi:\n",
    "                    ang += 2*math.pi\n",
    "                m0 = dist[angles[z][0]]/edgel[angles[z][0]]\n",
    "                m1 = dist[angles[z][1]]/edgel[angles[z][1]]\n",
    "                angf[z] = ang*anglessp[z]-angv[z]*anglesf[z]*min(m0,m1)\n",
    "\n",
    "            edgetorque = [[0,0,0,0,0],[0,0,0,0,0]]\n",
    "            for z in range(5):\n",
    "                inv = 1.0 / (dist[z]*dist[z])\n",
    "                edgetorque[0][z] = -disp[1][z]*inv\n",
    "                edgetorque[1][z] =  disp[0][z]*inv\n",
    "\n",
    "            for z in range(4):\n",
    "                i0 = angles[z][0]\n",
    "                i1 = angles[z][1]\n",
    "                forceedge[0][i0] += angf[z]*edgetorque[0][i0]\n",
    "                forceedge[1][i0] += angf[z]*edgetorque[1][i0]\n",
    "                forceedge[0][i1] -= angf[z]*edgetorque[0][i1]\n",
    "                forceedge[1][i1] -= angf[z]*edgetorque[1][i1]\n",
    "\n",
    "            f = [[0,0,0,0,0,0],[0,0,0,0,0,0]]\n",
    "            for z in range(5):\n",
    "                i0 = edge[z][0]\n",
    "                i1 = edge[z][1]\n",
    "                f[0][i0] -= forceedge[0][z]\n",
    "                f[1][i0] -= forceedge[1][z]\n",
    "                f[0][i1] += forceedge[0][z]\n",
    "                f[1][i1] += forceedge[1][z]\n",
    "\n",
    "            for z in range(6):\n",
    "                f[1][z] -= gravity*mass[z]\n",
    "                invm = 1.0/mass[z]\n",
    "                v[0][z] += f[0][z]*dt*invm\n",
    "                v[1][z] += f[1][z]*dt*invm\n",
    "                \n",
    "                if contact[z]:\n",
    "                    fric = 0.0\n",
    "                    if v[1][z] < 0.0:\n",
    "                        fric = -v[1][z]\n",
    "                        v[1][z] = 0.0\n",
    "\n",
    "                    s = np.sign(v[0][z])\n",
    "                    if v[0][z]*s < fric*friction:\n",
    "                        v[0][z]=0\n",
    "                    else:\n",
    "                        v[0][z] -= fric*friction*s\n",
    "                p[0][z] += v[0][z] * dt\n",
    "                p[1][z] += v[1][z] * dt;\n",
    "\n",
    "            data.append(copy.deepcopy(p))\n",
    "\n",
    "\n",
    "            if contact[0] or contact[5]:\n",
    "                return p[0][5]\n",
    "    return p[0][5]"
   ]
  },
  {
   "cell_type": "code",
   "execution_count": 4,
   "metadata": {
    "collapsed": true
   },
   "outputs": [],
   "source": [
    "###########\n",
    "# The following code is given as an example to store a video of the run and to display\n",
    "# the run in a graphics window. You will treat sim(plan) as a black box objective\n",
    "# function and minimize it.\n",
    "###########"
   ]
  },
  {
   "cell_type": "code",
   "execution_count": 10,
   "metadata": {
    "collapsed": false
   },
   "outputs": [
    {
     "name": "stdout",
     "output_type": "stream",
     "text": [
      "-0.0248463142255\n"
     ]
    }
   ],
   "source": [
    "plan = [random.uniform(-1,1) for i in range(40)]\n",
    "\n",
    "print sim(plan)"
   ]
  },
  {
   "cell_type": "code",
   "execution_count": 13,
   "metadata": {
    "collapsed": false
   },
   "outputs": [
    {
     "name": "stdout",
     "output_type": "stream",
     "text": [
      "-4.05338011459\n",
      "3.40636212473\n"
     ]
    }
   ],
   "source": [
    "trials = 1000\n",
    "runs = []\n",
    "for t in range(trials):\n",
    "    plan = [random.uniform(-1,1) for i in range(40)]\n",
    "    runs.append(sim(plan))\n",
    "print min(runs)\n",
    "print max(runs)"
   ]
  },
  {
   "cell_type": "code",
   "execution_count": null,
   "metadata": {
    "collapsed": true
   },
   "outputs": [],
   "source": []
  },
  {
   "cell_type": "code",
   "execution_count": null,
   "metadata": {
    "collapsed": true
   },
   "outputs": [],
   "source": []
  },
  {
   "cell_type": "code",
   "execution_count": 87,
   "metadata": {
    "collapsed": true
   },
   "outputs": [],
   "source": [
    "def trial(maxiters, T, startPlan = None):\n",
    "    if startPlan:\n",
    "        plan = startPlan\n",
    "    else:\n",
    "        plan = [random.uniform(-1, 1) for i in range(40)]\n",
    "    sig = 0.2\n",
    "    iter_vals = []\n",
    "    best_plan = plan\n",
    "    best_val = sim(plan)\n",
    "    for i in xrange(maxiters):\n",
    "        old_val = sim(plan)\n",
    "        rand_index = random.sample(range(40), 5)        \n",
    "        new_plan = copy.deepcopy(plan)\n",
    "        for r in rand_index:\n",
    "            new_plan[r] += np.random.normal(loc=0.0, scale=sig)\n",
    "        new_val = sim(new_plan)\n",
    "        change = new_val - old_val\n",
    "        if change < -0.35:\n",
    "            sig *= 0.9\n",
    "            T *= 0.9\n",
    "        if (change < 0) or (T > 0 and random.uniform(0.0, 1.0) < np.exp(-change / T)):\n",
    "            plan = new_plan\n",
    "        plan_val = sim(plan)\n",
    "        iter_vals.append(plan_val)\n",
    "        if plan_val < best_val:\n",
    "            best_val = plan_val\n",
    "            best_plan = plan\n",
    "    return best_plan, best_val, iter_vals"
   ]
  },
  {
   "cell_type": "code",
   "execution_count": 95,
   "metadata": {
    "collapsed": false
   },
   "outputs": [
    {
     "name": "stdout",
     "output_type": "stream",
     "text": [
      "-0.840022054394\n",
      "100\n"
     ]
    },
    {
     "data": {
      "text/plain": [
       "<matplotlib.text.Text at 0x56370898>"
      ]
     },
     "execution_count": 95,
     "metadata": {},
     "output_type": "execute_result"
    }
   ],
   "source": [
    "bestPlan, bestVal, iterVals = trial(100, 0.5)\n",
    "print bestVal\n",
    "print len(iterVals)\n",
    "plt.figure(figsize=(8, 8));\n",
    "plt.plot(range(len(iterVals)), iterVals);\n",
    "plt.xlabel(\"Iteration\")\n",
    "plt.ylabel(\"Value\")"
   ]
  },
  {
   "cell_type": "code",
   "execution_count": 96,
   "metadata": {
    "collapsed": false
   },
   "outputs": [
    {
     "name": "stdout",
     "output_type": "stream",
     "text": [
      "-1.51476653799\n",
      "100\n"
     ]
    },
    {
     "data": {
      "text/plain": [
       "<matplotlib.text.Text at 0x59b5bcc0>"
      ]
     },
     "execution_count": 96,
     "metadata": {},
     "output_type": "execute_result"
    }
   ],
   "source": [
    "bestPlan2, bestVal2, iterVals = trial(100, 0.5, bestPlan)\n",
    "print bestVal2\n",
    "print len(iterVals)\n",
    "plt.figure(figsize=(8, 8));\n",
    "plt.plot(range(len(iterVals)), iterVals);\n",
    "plt.xlabel(\"Iteration\")\n",
    "plt.ylabel(\"Value\")"
   ]
  },
  {
   "cell_type": "code",
   "execution_count": 97,
   "metadata": {
    "collapsed": false
   },
   "outputs": [
    {
     "name": "stdout",
     "output_type": "stream",
     "text": [
      "-1.6928975987\n",
      "100\n"
     ]
    },
    {
     "data": {
      "text/plain": [
       "<matplotlib.text.Text at 0x54eb39b0>"
      ]
     },
     "execution_count": 97,
     "metadata": {},
     "output_type": "execute_result"
    }
   ],
   "source": [
    "bestPlan3, bestVal3, iterVals = trial(100, 0.5, bestPlan2)\n",
    "print bestVal3\n",
    "print len(iterVals)\n",
    "plt.figure(figsize=(8, 8));\n",
    "plt.plot(range(len(iterVals)), iterVals);\n",
    "plt.xlabel(\"Iteration\")\n",
    "plt.ylabel(\"Value\")"
   ]
  },
  {
   "cell_type": "code",
   "execution_count": 5,
   "metadata": {
    "collapsed": false
   },
   "outputs": [
    {
     "name": "stdout",
     "output_type": "stream",
     "text": [
      "Using matplotlib backend: Qt4Agg\n"
     ]
    }
   ],
   "source": [
    "%matplotlib\n",
    "# draw the simulation\n",
    "fig = plt.figure()\n",
    "fig.set_dpi(100)\n",
    "fig.set_size_inches(12, 3)\n",
    "\n",
    "ax = plt.axes(xlim=(-1, 10), ylim=(0, 3))\n",
    "\n",
    "joints = [5, 0, 1, 2, 1, 0, 3, 4]\n",
    "patch = plt.Polygon([[0,0],[0,0]],closed=None, fill=None, edgecolor='k')\n",
    "head = plt.Circle((0, 0), radius=0.15, fc='k', ec='k')\n",
    "\n",
    "def init():\n",
    "    ax.add_patch(patch)\n",
    "    ax.add_patch(head)\n",
    "    return patch,head\n",
    "\n",
    "\n",
    "def animate(j):\n",
    "    points = zip([data[j][0][i] for i in joints], [data[j][1][i] for i in joints])\n",
    "    patch.set_xy(points)\n",
    "    head.center = (data[j][0][5], data[j][1][5])\n",
    "    return patch,head\n",
    "\n",
    "anim = animation.FuncAnimation(fig, animate,\n",
    "                               init_func=init,\n",
    "                               frames=len(data),\n",
    "                               interval=20)\n",
    "#anim.save('animation.mp4', fps=50)\n",
    "\n",
    "plt.show()"
   ]
  },
  {
   "cell_type": "code",
   "execution_count": null,
   "metadata": {
    "collapsed": false
   },
   "outputs": [],
   "source": []
  },
  {
   "cell_type": "code",
   "execution_count": null,
   "metadata": {
    "collapsed": true
   },
   "outputs": [],
   "source": []
  }
 ],
 "metadata": {
  "kernelspec": {
   "display_name": "Python 2",
   "language": "python",
   "name": "python2"
  },
  "language_info": {
   "codemirror_mode": {
    "name": "ipython",
    "version": 2
   },
   "file_extension": ".py",
   "mimetype": "text/x-python",
   "name": "python",
   "nbconvert_exporter": "python",
   "pygments_lexer": "ipython2",
   "version": "2.7.12"
  }
 },
 "nbformat": 4,
 "nbformat_minor": 0
}
