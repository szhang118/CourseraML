{
 "cells": [
  {
   "cell_type": "markdown",
   "metadata": {},
   "source": [
    "Implementation in Python with numpy of a one vs. all classification method.  Assuming there are N possible classes fit N possible models.  Each of these N models finds likelihood of observation being of class i vs. the probability of being one of the other N - 1 classes.  Afterwards, each observation is assigned to the class which has the maximum probability from the N different models."
   ]
  },
  {
   "cell_type": "code",
   "execution_count": 1,
   "metadata": {
    "collapsed": true
   },
   "outputs": [],
   "source": [
    "import numpy as np\n",
    "import pandas as pd\n",
    "import matplotlib.pyplot as plt\n",
    "%matplotlib inline\n",
    "from scipy.io import loadmat"
   ]
  },
  {
   "cell_type": "code",
   "execution_count": 2,
   "metadata": {
    "collapsed": true
   },
   "outputs": [],
   "source": [
    "def sigmoid(z):\n",
    "    return 1.0 / (1 + np.exp(-z))"
   ]
  },
  {
   "cell_type": "code",
   "execution_count": 3,
   "metadata": {
    "collapsed": false
   },
   "outputs": [
    {
     "data": {
      "text/plain": [
       "{'X': array([[ 0.,  0.,  0., ...,  0.,  0.,  0.],\n",
       "        [ 0.,  0.,  0., ...,  0.,  0.,  0.],\n",
       "        [ 0.,  0.,  0., ...,  0.,  0.,  0.],\n",
       "        ..., \n",
       "        [ 0.,  0.,  0., ...,  0.,  0.,  0.],\n",
       "        [ 0.,  0.,  0., ...,  0.,  0.,  0.],\n",
       "        [ 0.,  0.,  0., ...,  0.,  0.,  0.]]),\n",
       " '__globals__': [],\n",
       " '__header__': 'MATLAB 5.0 MAT-file, Platform: GLNXA64, Created on: Sun Oct 16 13:09:09 2011',\n",
       " '__version__': '1.0',\n",
       " 'y': array([[10],\n",
       "        [10],\n",
       "        [10],\n",
       "        ..., \n",
       "        [ 9],\n",
       "        [ 9],\n",
       "        [ 9]], dtype=uint8)}"
      ]
     },
     "execution_count": 3,
     "metadata": {},
     "output_type": "execute_result"
    }
   ],
   "source": [
    "data = loadmat(\"ex3data1.mat\")\n",
    "data"
   ]
  },
  {
   "cell_type": "code",
   "execution_count": 4,
   "metadata": {
    "collapsed": false
   },
   "outputs": [
    {
     "data": {
      "text/plain": [
       "((5000L, 400L), (5000L, 1L))"
      ]
     },
     "execution_count": 4,
     "metadata": {},
     "output_type": "execute_result"
    }
   ],
   "source": [
    "data[\"X\"].shape, data[\"y\"].shape"
   ]
  },
  {
   "cell_type": "code",
   "execution_count": 5,
   "metadata": {
    "collapsed": true
   },
   "outputs": [],
   "source": [
    "def cost(theta, X, y, lamb):\n",
    "    theta, X, y = np.matrix(theta), np.matrix(X), np.matrix(y) #conversion to numpy matrices if needed\n",
    "    m = float(len(X))\n",
    "    first = np.multiply(-y, np.log(sigmoid(X * theta.T)))\n",
    "    second = np.multiply((1 - y), np.log(1 - sigmoid(X * theta.T)))\n",
    "    reg = lamb/(2.0 * m) * np.sum(np.power(theta[:, 1:theta.shape[1]], 2)) #regularization term\n",
    "    return np.sum(first - second) / m + reg"
   ]
  },
  {
   "cell_type": "code",
   "execution_count": 6,
   "metadata": {
    "collapsed": true
   },
   "outputs": [],
   "source": [
    "def gradient(theta, X, y, lamb):\n",
    "    theta, X, y = np.matrix(theta), np.matrix(X), np.matrix(y) #convert to matrices\n",
    "    error = sigmoid(X * theta.T) - y\n",
    "    m = float(len(X)) #number of observations\n",
    "    \n",
    "    grad = (1.0 / m * X.T * error).T + ((lamb / m)*theta)\n",
    "    grad[0, 0] = np.sum(np.multiply(error, X[:, 0]))/m #intercept not regularized\n",
    "    return np.array(grad).ravel()"
   ]
  },
  {
   "cell_type": "code",
   "execution_count": 7,
   "metadata": {
    "collapsed": false
   },
   "outputs": [],
   "source": [
    "from scipy.optimize import minimize"
   ]
  },
  {
   "cell_type": "code",
   "execution_count": 8,
   "metadata": {
    "collapsed": true
   },
   "outputs": [],
   "source": [
    "def oneVsAll(X, y, num_labels, learn):\n",
    "    #there are k different possible labels, n parameters, m observations\n",
    "    rows = X.shape[0] #number of observations\n",
    "    params = X.shape[1] #number of parameters\n",
    "    \n",
    "    #create k X (n + 1) array for parameters of each of k classifiers\n",
    "    all_theta = np.zeros((num_labels, params + 1))\n",
    "    #insert column of ones for intercept term\n",
    "    X = np.insert(X, 0, values = np.ones(rows), axis = 1)\n",
    "    for i in range(1, num_labels + 1):\n",
    "        theta = np.zeros(params + 1) #parameters for label i\n",
    "        y_i = np.array([1 if label == i else 0 for label in y]) #new y for label i\n",
    "        y_i = np.reshape(y_i, (rows, 1)) #reshape as m X 1 array\n",
    "        fmin = minimize(fun=cost, x0=theta, args=(X, y_i, learn), method=\"TNC\", jac=gradient)\n",
    "        all_theta[i - 1, :] = fmin.x\n",
    "        \n",
    "    return all_theta"
   ]
  },
  {
   "cell_type": "code",
   "execution_count": 9,
   "metadata": {
    "collapsed": false
   },
   "outputs": [
    {
     "name": "stdout",
     "output_type": "stream",
     "text": [
      "(5000L, 401L) (5000L, 1L) (401L,) (10L, 401L)\n"
     ]
    }
   ],
   "source": [
    "#check shape of vectors and matrices\n",
    "rows = data[\"X\"].shape[0]\n",
    "params = data[\"X\"].shape[1]\n",
    "all_theta = np.zeros((10, params + 1))\n",
    "X = np.insert(data[\"X\"], 0, np.ones(rows), axis=1)\n",
    "theta = np.zeros(params + 1)\n",
    "y_0 = np.array([1 if label == 0 else 0 for label in data[\"y\"]])\n",
    "y_0 = np.reshape(y_0, (rows, 1))\n",
    "print X.shape, y_0.shape, theta.shape, all_theta.shape"
   ]
  },
  {
   "cell_type": "code",
   "execution_count": 10,
   "metadata": {
    "collapsed": false
   },
   "outputs": [
    {
     "data": {
      "text/plain": [
       "array([ 1,  2,  3,  4,  5,  6,  7,  8,  9, 10], dtype=uint8)"
      ]
     },
     "execution_count": 10,
     "metadata": {},
     "output_type": "execute_result"
    }
   ],
   "source": [
    "np.unique(data[\"y\"])"
   ]
  },
  {
   "cell_type": "code",
   "execution_count": 11,
   "metadata": {
    "collapsed": false
   },
   "outputs": [
    {
     "data": {
      "text/plain": [
       "array([[ -2.38269917e+00,   0.00000000e+00,   0.00000000e+00, ...,\n",
       "          1.30407805e-03,  -6.74624648e-10,   0.00000000e+00],\n",
       "       [ -3.18544074e+00,   0.00000000e+00,   0.00000000e+00, ...,\n",
       "          4.46013538e-03,  -5.08504735e-04,   0.00000000e+00],\n",
       "       [ -4.79511162e+00,   0.00000000e+00,   0.00000000e+00, ...,\n",
       "         -2.86319768e-05,  -2.46881239e-07,   0.00000000e+00],\n",
       "       ..., \n",
       "       [ -7.98768702e+00,   0.00000000e+00,   0.00000000e+00, ...,\n",
       "         -8.94530849e-05,   7.21298510e-06,   0.00000000e+00],\n",
       "       [ -4.57418382e+00,   0.00000000e+00,   0.00000000e+00, ...,\n",
       "         -1.33371425e-03,   9.96602811e-05,   0.00000000e+00],\n",
       "       [ -5.40516157e+00,   0.00000000e+00,   0.00000000e+00, ...,\n",
       "         -1.16792563e-04,   7.88480861e-06,   0.00000000e+00]])"
      ]
     },
     "execution_count": 11,
     "metadata": {},
     "output_type": "execute_result"
    }
   ],
   "source": [
    "all_theta = oneVsAll(data[\"X\"], data['y'], 10, 1.0)\n",
    "all_theta"
   ]
  },
  {
   "cell_type": "code",
   "execution_count": 12,
   "metadata": {
    "collapsed": false
   },
   "outputs": [
    {
     "name": "stdout",
     "output_type": "stream",
     "text": [
      "(10L, 401L)\n"
     ]
    }
   ],
   "source": [
    "print all_theta.shape"
   ]
  },
  {
   "cell_type": "code",
   "execution_count": 13,
   "metadata": {
    "collapsed": true
   },
   "outputs": [],
   "source": [
    "def predict(X, all_theta):\n",
    "    rows = X.shape[0]  #number of observations\n",
    "    params = X.shape[1] #number of parameters\n",
    "    num_labels = all_theta.shape[0] #number of class labels\n",
    "    #insert column of ones\n",
    "    X = np.insert(X, 0, values = np.ones(rows), axis = 1)\n",
    "    X, all_theta = np.matrix(X), np.matrix(all_theta) #convert to numpy matrices\n",
    "    #predictions for all labels for each observation in X\n",
    "    h = sigmoid(X * all_theta.T)\n",
    "    h_argmax = np.argmax(h, axis = 1) #return column that maximizes value in each row\n",
    "    return h_argmax + 1 #adjust for zero index to get true prediction"
   ]
  },
  {
   "cell_type": "code",
   "execution_count": 14,
   "metadata": {
    "collapsed": false
   },
   "outputs": [
    {
     "name": "stdout",
     "output_type": "stream",
     "text": [
      "Accuracy: 0.9446\n"
     ]
    }
   ],
   "source": [
    "preds = predict(data[\"X\"], all_theta)\n",
    "correct = [1 if a == b else 0 for (a, b) in zip(preds, data[\"y\"])]\n",
    "print \"Accuracy:\", sum(correct)/float(len(correct))"
   ]
  },
  {
   "cell_type": "code",
   "execution_count": 16,
   "metadata": {
    "collapsed": false
   },
   "outputs": [
    {
     "data": {
      "text/plain": [
       "array([ 1,  2,  3,  4,  5,  6,  7,  8,  9, 10], dtype=int64)"
      ]
     },
     "execution_count": 16,
     "metadata": {},
     "output_type": "execute_result"
    }
   ],
   "source": [
    "np.unique(np.array(preds))"
   ]
  },
  {
   "cell_type": "code",
   "execution_count": 17,
   "metadata": {
    "collapsed": false
   },
   "outputs": [],
   "source": [
    "from collections import Counter"
   ]
  },
  {
   "cell_type": "code",
   "execution_count": 31,
   "metadata": {
    "collapsed": false
   },
   "outputs": [
    {
     "data": {
      "text/plain": [
       "{1: 500,\n",
       " 2: 500,\n",
       " 3: 500,\n",
       " 4: 500,\n",
       " 5: 500,\n",
       " 6: 500,\n",
       " 7: 500,\n",
       " 8: 500,\n",
       " 9: 500,\n",
       " 10: 500}"
      ]
     },
     "execution_count": 31,
     "metadata": {},
     "output_type": "execute_result"
    }
   ],
   "source": [
    "#counts of each label in dataset\n",
    "counts = dict()\n",
    "for val[0] in data[\"y\"]:\n",
    "    if val[0] in counts:\n",
    "        counts[val[0]] += 1\n",
    "    else:\n",
    "        counts[val[0]] = 1\n",
    "counts"
   ]
  },
  {
   "cell_type": "code",
   "execution_count": null,
   "metadata": {
    "collapsed": false
   },
   "outputs": [],
   "source": []
  },
  {
   "cell_type": "code",
   "execution_count": null,
   "metadata": {
    "collapsed": true
   },
   "outputs": [],
   "source": []
  }
 ],
 "metadata": {
  "kernelspec": {
   "display_name": "Python 2",
   "language": "python",
   "name": "python2"
  },
  "language_info": {
   "codemirror_mode": {
    "name": "ipython",
    "version": 2
   },
   "file_extension": ".py",
   "mimetype": "text/x-python",
   "name": "python",
   "nbconvert_exporter": "python",
   "pygments_lexer": "ipython2",
   "version": "2.7.12"
  }
 },
 "nbformat": 4,
 "nbformat_minor": 0
}
